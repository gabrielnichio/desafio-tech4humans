{
 "cells": [
  {
   "cell_type": "code",
   "execution_count": 1,
   "id": "120a0552",
   "metadata": {},
   "outputs": [],
   "source": [
    "import pandas as pd"
   ]
  },
  {
   "cell_type": "code",
   "execution_count": 3,
   "id": "a01ee98c",
   "metadata": {},
   "outputs": [],
   "source": [
    "colab = pd.read_excel(\"data/Dados Colaboradores.xlsx\")"
   ]
  },
  {
   "cell_type": "code",
   "execution_count": 4,
   "id": "5f49acc1",
   "metadata": {},
   "outputs": [
    {
     "name": "stdout",
     "output_type": "stream",
     "text": [
      "<class 'pandas.core.frame.DataFrame'>\n",
      "RangeIndex: 62 entries, 0 to 61\n",
      "Data columns (total 4 columns):\n",
      " #   Column        Non-Null Count  Dtype  \n",
      "---  ------        --------------  -----  \n",
      " 0   Nome          62 non-null     object \n",
      " 1   CPF           62 non-null     object \n",
      " 2   Departamento  62 non-null     object \n",
      " 3   Salario       62 non-null     float64\n",
      "dtypes: float64(1), object(3)\n",
      "memory usage: 2.1+ KB\n"
     ]
    }
   ],
   "source": [
    "colab.info()"
   ]
  },
  {
   "cell_type": "code",
   "execution_count": 5,
   "id": "54285123",
   "metadata": {},
   "outputs": [
    {
     "data": {
      "text/plain": [
       "Nome\n",
       "Adolfo Moreira      1\n",
       "Adriana Nogueira    1\n",
       "Afonso Barros       1\n",
       "Alan Esteves        1\n",
       "Alberto da Luz      1\n",
       "                   ..\n",
       "Eduardo Portela     1\n",
       "Elaine Assis        1\n",
       "Elias Henriques     1\n",
       "Eliane Jurema       1\n",
       "Elielson Quadros    1\n",
       "Name: count, Length: 62, dtype: int64"
      ]
     },
     "execution_count": 5,
     "metadata": {},
     "output_type": "execute_result"
    }
   ],
   "source": [
    "colab[\"Nome\"].value_counts()"
   ]
  },
  {
   "cell_type": "code",
   "execution_count": 6,
   "id": "3eda0cc0",
   "metadata": {},
   "outputs": [
    {
     "name": "stdout",
     "output_type": "stream",
     "text": [
      "<class 'pandas.core.frame.DataFrame'>\n",
      "RangeIndex: 62 entries, 0 to 61\n",
      "Data columns (total 12 columns):\n",
      " #   Column         Non-Null Count  Dtype         \n",
      "---  ------         --------------  -----         \n",
      " 0   Código         62 non-null     int64         \n",
      " 1   Beneficiário   62 non-null     object        \n",
      " 2   CPF            62 non-null     object        \n",
      " 3   Tipo           62 non-null     object        \n",
      " 4   Idade          62 non-null     int64         \n",
      " 5   Dependência    0 non-null      float64       \n",
      " 6   Data Limite    0 non-null      float64       \n",
      " 7   Data Inclusão  62 non-null     datetime64[ns]\n",
      " 8   Data Exclusão  1 non-null      datetime64[ns]\n",
      " 9   Rubrica        62 non-null     object        \n",
      " 10  Outros         62 non-null     int64         \n",
      " 11  Total          62 non-null     float64       \n",
      "dtypes: datetime64[ns](2), float64(3), int64(3), object(4)\n",
      "memory usage: 5.9+ KB\n"
     ]
    }
   ],
   "source": [
    "unimed = pd.read_excel(\"data/Beneficios/Beneficio 1 - Unimed.xlsx\")\n",
    "unimed.info()"
   ]
  },
  {
   "cell_type": "code",
   "execution_count": null,
   "id": "ab6fdbd9",
   "metadata": {},
   "outputs": [],
   "source": []
  }
 ],
 "metadata": {
  "kernelspec": {
   "display_name": "base_env",
   "language": "python",
   "name": "python3"
  },
  "language_info": {
   "codemirror_mode": {
    "name": "ipython",
    "version": 3
   },
   "file_extension": ".py",
   "mimetype": "text/x-python",
   "name": "python",
   "nbconvert_exporter": "python",
   "pygments_lexer": "ipython3",
   "version": "3.13.2"
  }
 },
 "nbformat": 4,
 "nbformat_minor": 5
}
